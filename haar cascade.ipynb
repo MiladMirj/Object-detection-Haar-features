{
 "cells": [
  {
   "cell_type": "markdown",
   "metadata": {},
   "source": [
    "## Rapid Object Detection using a Boosted Cascade of SimpleFeatures\n",
    "\n",
    "\n",
    "Paul Viola -  Michael Jones\n",
    "\n",
    "year : 2001"
   ]
  },
  {
   "cell_type": "code",
   "execution_count": 1,
   "metadata": {},
   "outputs": [],
   "source": [
    "import cv2\n",
    "import glob\n",
    "import numpy as np"
   ]
  },
  {
   "cell_type": "code",
   "execution_count": 2,
   "metadata": {},
   "outputs": [],
   "source": [
    "face_detector = cv2.CascadeClassifier('haarcascade_frontalface_default.xml')\n",
    "eye_detector = cv2.CascadeClassifier('haarcascade_eye.xml')"
   ]
  },
  {
   "cell_type": "code",
   "execution_count": 3,
   "metadata": {},
   "outputs": [],
   "source": [
    "cv2.namedWindow('img', cv2.WINDOW_NORMAL)\n",
    "for img_path in glob.glob('./*.jpg'):\n",
    "    img = cv2.imread(img_path)\n",
    "    gray_img = cv2.cvtColor(img, cv2.COLOR_BGR2GRAY)\n",
    "    faces = face_detector.detectMultiScale(gray_img, 1.05, 3)\n",
    "    for(x, y, w, h) in faces:\n",
    "        cv2.rectangle(img, (x, y), (x + w, y + h), (255, 0 , 0), 3)\n",
    "    cv2.imshow('img', img)\n",
    "    if cv2.waitKey(0) == ord('q'):\n",
    "        break\n",
    "        \n",
    "cv2.destroyAllWindows()"
   ]
  },
  {
   "cell_type": "code",
   "execution_count": 4,
   "metadata": {},
   "outputs": [],
   "source": [
    "cv2.namedWindow('img', cv2.WINDOW_NORMAL)\n",
    "for img_path in glob.glob('./*.jpg'):\n",
    "    img = cv2.imread(img_path)\n",
    "    gray_img = cv2.cvtColor(img, cv2.COLOR_BGR2GRAY)\n",
    "    eyes = eye_detector.detectMultiScale(gray_img, 2, 3)\n",
    "    for(x, y, w, h) in eyes:\n",
    "        cv2.rectangle(img, (x, y), (x + w, y + h), (255, 0 , 0), 3)\n",
    "    cv2.imshow('img', img)\n",
    "    if cv2.waitKey(0) == ord('q'):\n",
    "        break\n",
    "        \n",
    "cv2.destroyAllWindows()"
   ]
  },
  {
   "cell_type": "code",
   "execution_count": 5,
   "metadata": {},
   "outputs": [],
   "source": [
    "body_detector = cv2.CascadeClassifier('haarcascade_fullbody.xml')"
   ]
  },
  {
   "cell_type": "code",
   "execution_count": 6,
   "metadata": {},
   "outputs": [],
   "source": [
    "def change(value):\n",
    "    pass"
   ]
  },
  {
   "cell_type": "code",
   "execution_count": 7,
   "metadata": {},
   "outputs": [],
   "source": [
    "cap = cv2.VideoCapture('people.mp4')\n",
    "cv2.namedWindow('img', cv2.WINDOW_NORMAL)\n",
    "cv2.namedWindow('setting')\n",
    "cv2.createTrackbar('scale', 'setting', 1, 100, change)\n",
    "cv2.createTrackbar('min neighbor', 'setting', 1, 10, change)\n",
    "while True:\n",
    "    ret, frame = cap.read()\n",
    "    if not ret:\n",
    "        break\n",
    "    frame_gray = cv2.cvtColor(frame, cv2.COLOR_BGR2GRAY)\n",
    "    scale = cv2.getTrackbarPos('scale', 'setting')\n",
    "    min_neighbor = cv2.getTrackbarPos('min neighbor', 'setting')\n",
    "    scaled = np.interp(scale, [1, 100], [1.05, 6])\n",
    "    bodies = body_detector.detectMultiScale(frame_gray, scaled, min_neighbor)\n",
    "    cv2.putText(frame, str(scaled), (20, 50), cv2.FONT_HERSHEY_COMPLEX, 1 , (255, 0, 0))\n",
    "    cv2.putText(frame, str(min_neighbor), (20, 100), cv2.FONT_HERSHEY_COMPLEX, 1, (255, 0, 0))\n",
    "    for (x, y, w, h) in bodies:\n",
    "        cv2.rectangle(frame, (x, y), (x + w, y + h), (255, 0, 0), 3)\n",
    "    cv2.imshow('img', frame)\n",
    "    if cv2.waitKey(150) == ord('q'):\n",
    "        break\n",
    "cv2.destroyAllWindows()\n",
    "cap.release()"
   ]
  },
  {
   "cell_type": "code",
   "execution_count": null,
   "metadata": {},
   "outputs": [],
   "source": []
  }
 ],
 "metadata": {
  "kernelspec": {
   "display_name": "code-surge",
   "language": "python",
   "name": "code-surge"
  },
  "language_info": {
   "codemirror_mode": {
    "name": "ipython",
    "version": 3
   },
   "file_extension": ".py",
   "mimetype": "text/x-python",
   "name": "python",
   "nbconvert_exporter": "python",
   "pygments_lexer": "ipython3",
   "version": "3.8.6"
  }
 },
 "nbformat": 4,
 "nbformat_minor": 2
}
